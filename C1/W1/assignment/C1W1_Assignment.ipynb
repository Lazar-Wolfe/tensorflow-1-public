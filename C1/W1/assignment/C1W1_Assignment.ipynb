{
 "cells": [
  {
   "cell_type": "markdown",
   "metadata": {
    "id": "mw2VBrBcgvGa"
   },
   "source": [
    "# Week 1 Assignment: Housing Prices\n",
    "\n",
    "In this exercise you'll try to build a neural network that predicts the price of a house according to a simple formula.\n",
    "\n",
    "Imagine that house pricing is as easy as:\n",
    "\n",
    "A house has a base cost of 50k, and every additional bedroom adds a cost of 50k. This will make a 1 bedroom house cost 100k, a 2 bedroom house cost 150k etc.\n",
    "\n",
    "How would you create a neural network that learns this relationship so that it would predict a 7 bedroom house as costing close to 400k etc.\n",
    "\n",
    "Hint: Your network might work better if you scale the house price down. You don't have to give the answer 400...it might be better to create something that predicts the number 4, and then your answer is in the 'hundreds of thousands' etc."
   ]
  },
  {
   "cell_type": "code",
   "execution_count": 1,
   "metadata": {
    "id": "PUNO2E6SeURH",
    "tags": [
     "graded"
    ]
   },
   "outputs": [],
   "source": [
    "import tensorflow as tf\n",
    "import numpy as np"
   ]
  },
  {
   "cell_type": "code",
   "execution_count": 3,
   "metadata": {
    "id": "B-74xrKrBqGJ",
    "tags": [
     "graded"
    ]
   },
   "outputs": [],
   "source": [
    "def house_model():\n",
    "    # Define input and output tensors with the values for houses with 1 up to 6 bedrooms\n",
    "    # Hint: Remember to explictly set the dtype as float\n",
    "    xs = np.array([1,2,3,4,5,6],dtype=float)\n",
    "    ys = np.array([1,1.5,2,2.5,3,3.5],dtype=float)\n",
    "    \n",
    "    # Define your model (should be a model with 1 dense layer and 1 unit)\n",
    "    model = tf.keras.Sequential(tf.keras.layers.Dense(units=1,input_dim=1))\n",
    "    # model = tf.keras.Sequential()\n",
    "    # model.add(tf.keras.layers.Dense(units=1,input_dim=1))\n",
    "    \n",
    "    # Compile your model\n",
    "    # Set the optimizer to Stochastic Gradient Descent\n",
    "    # and use Mean Squared Error as the loss function\n",
    "    model.compile(optimizer='sgd', loss='mean_squared_error',metrics='accuracy')\n",
    "    model.fit(xs, ys, epochs=100,verbose=1)\n",
    "    return model"
   ]
  },
  {
   "cell_type": "markdown",
   "metadata": {},
   "source": [
    "Now that you have a function that returns a compiled and trained model when invoked, use it to get the model to predict the price of houses: "
   ]
  },
  {
   "cell_type": "code",
   "execution_count": 4,
   "metadata": {
    "tags": [
     "graded"
    ]
   },
   "outputs": [
    {
     "name": "stdout",
     "output_type": "stream",
     "text": [
      "Epoch 1/100\n",
      "1/1 [==============================] - 0s 410ms/step - loss: 51.4144 - accuracy: 0.0000e+00\n",
      "Epoch 2/100\n",
      "1/1 [==============================] - 0s 10ms/step - loss: 23.7970 - accuracy: 0.0000e+00\n",
      "Epoch 3/100\n",
      "1/1 [==============================] - 0s 6ms/step - loss: 11.0148 - accuracy: 0.0000e+00\n",
      "Epoch 4/100\n",
      "1/1 [==============================] - 0s 5ms/step - loss: 5.0988 - accuracy: 0.0000e+00\n",
      "Epoch 5/100\n",
      "1/1 [==============================] - 0s 5ms/step - loss: 2.3607 - accuracy: 0.0000e+00\n",
      "Epoch 6/100\n",
      "1/1 [==============================] - 0s 0s/step - loss: 1.0935 - accuracy: 0.1667\n",
      "Epoch 7/100\n",
      "1/1 [==============================] - 0s 5ms/step - loss: 0.5069 - accuracy: 0.1667\n",
      "Epoch 8/100\n",
      "1/1 [==============================] - 0s 5ms/step - loss: 0.2354 - accuracy: 0.1667\n",
      "Epoch 9/100\n",
      "1/1 [==============================] - 0s 10ms/step - loss: 0.1098 - accuracy: 0.1667\n",
      "Epoch 10/100\n",
      "1/1 [==============================] - 0s 15ms/step - loss: 0.0516 - accuracy: 0.1667\n",
      "Epoch 11/100\n",
      "1/1 [==============================] - 0s 5ms/step - loss: 0.0247 - accuracy: 0.1667\n",
      "Epoch 12/100\n",
      "1/1 [==============================] - 0s 10ms/step - loss: 0.0122 - accuracy: 0.1667\n",
      "Epoch 13/100\n",
      "1/1 [==============================] - 0s 5ms/step - loss: 0.0065 - accuracy: 0.1667\n",
      "Epoch 14/100\n",
      "1/1 [==============================] - 0s 5ms/step - loss: 0.0038 - accuracy: 0.1667\n",
      "Epoch 15/100\n",
      "1/1 [==============================] - 0s 15ms/step - loss: 0.0025 - accuracy: 0.1667\n",
      "Epoch 16/100\n",
      "1/1 [==============================] - 0s 10ms/step - loss: 0.0020 - accuracy: 0.1667\n",
      "Epoch 17/100\n",
      "1/1 [==============================] - 0s 5ms/step - loss: 0.0017 - accuracy: 0.1667\n",
      "Epoch 18/100\n",
      "1/1 [==============================] - 0s 5ms/step - loss: 0.0015 - accuracy: 0.1667\n",
      "Epoch 19/100\n",
      "1/1 [==============================] - 0s 5ms/step - loss: 0.0015 - accuracy: 0.1667\n",
      "Epoch 20/100\n",
      "1/1 [==============================] - 0s 5ms/step - loss: 0.0014 - accuracy: 0.1667\n",
      "Epoch 21/100\n",
      "1/1 [==============================] - 0s 5ms/step - loss: 0.0014 - accuracy: 0.1667\n",
      "Epoch 22/100\n",
      "1/1 [==============================] - 0s 10ms/step - loss: 0.0014 - accuracy: 0.1667\n",
      "Epoch 23/100\n",
      "1/1 [==============================] - 0s 5ms/step - loss: 0.0014 - accuracy: 0.1667\n",
      "Epoch 24/100\n",
      "1/1 [==============================] - 0s 10ms/step - loss: 0.0014 - accuracy: 0.1667\n",
      "Epoch 25/100\n",
      "1/1 [==============================] - 0s 10ms/step - loss: 0.0014 - accuracy: 0.1667\n",
      "Epoch 26/100\n",
      "1/1 [==============================] - 0s 5ms/step - loss: 0.0014 - accuracy: 0.1667\n",
      "Epoch 27/100\n",
      "1/1 [==============================] - 0s 10ms/step - loss: 0.0013 - accuracy: 0.1667\n",
      "Epoch 28/100\n",
      "1/1 [==============================] - 0s 5ms/step - loss: 0.0013 - accuracy: 0.1667\n",
      "Epoch 29/100\n",
      "1/1 [==============================] - 0s 15ms/step - loss: 0.0013 - accuracy: 0.1667\n",
      "Epoch 30/100\n",
      "1/1 [==============================] - 0s 15ms/step - loss: 0.0013 - accuracy: 0.1667\n",
      "Epoch 31/100\n",
      "1/1 [==============================] - 0s 10ms/step - loss: 0.0013 - accuracy: 0.1667\n",
      "Epoch 32/100\n",
      "1/1 [==============================] - 0s 5ms/step - loss: 0.0013 - accuracy: 0.1667\n",
      "Epoch 33/100\n",
      "1/1 [==============================] - 0s 5ms/step - loss: 0.0013 - accuracy: 0.1667\n",
      "Epoch 34/100\n",
      "1/1 [==============================] - 0s 10ms/step - loss: 0.0013 - accuracy: 0.1667\n",
      "Epoch 35/100\n",
      "1/1 [==============================] - 0s 15ms/step - loss: 0.0013 - accuracy: 0.1667\n",
      "Epoch 36/100\n",
      "1/1 [==============================] - 0s 10ms/step - loss: 0.0013 - accuracy: 0.1667\n",
      "Epoch 37/100\n",
      "1/1 [==============================] - 0s 25ms/step - loss: 0.0013 - accuracy: 0.1667\n",
      "Epoch 38/100\n",
      "1/1 [==============================] - 0s 5ms/step - loss: 0.0012 - accuracy: 0.1667\n",
      "Epoch 39/100\n",
      "1/1 [==============================] - 0s 0s/step - loss: 0.0012 - accuracy: 0.1667\n",
      "Epoch 40/100\n",
      "1/1 [==============================] - 0s 0s/step - loss: 0.0012 - accuracy: 0.1667\n",
      "Epoch 41/100\n",
      "1/1 [==============================] - 0s 5ms/step - loss: 0.0012 - accuracy: 0.1667\n",
      "Epoch 42/100\n",
      "1/1 [==============================] - 0s 10ms/step - loss: 0.0012 - accuracy: 0.1667\n",
      "Epoch 43/100\n",
      "1/1 [==============================] - 0s 15ms/step - loss: 0.0012 - accuracy: 0.1667\n",
      "Epoch 44/100\n",
      "1/1 [==============================] - 0s 20ms/step - loss: 0.0012 - accuracy: 0.1667\n",
      "Epoch 45/100\n",
      "1/1 [==============================] - 0s 15ms/step - loss: 0.0012 - accuracy: 0.1667\n",
      "Epoch 46/100\n",
      "1/1 [==============================] - 0s 5ms/step - loss: 0.0012 - accuracy: 0.1667\n",
      "Epoch 47/100\n",
      "1/1 [==============================] - 0s 5ms/step - loss: 0.0012 - accuracy: 0.1667\n",
      "Epoch 48/100\n",
      "1/1 [==============================] - 0s 10ms/step - loss: 0.0012 - accuracy: 0.1667\n",
      "Epoch 49/100\n",
      "1/1 [==============================] - 0s 5ms/step - loss: 0.0011 - accuracy: 0.1667\n",
      "Epoch 50/100\n",
      "1/1 [==============================] - 0s 25ms/step - loss: 0.0011 - accuracy: 0.1667\n",
      "Epoch 51/100\n",
      "1/1 [==============================] - 0s 10ms/step - loss: 0.0011 - accuracy: 0.1667\n",
      "Epoch 52/100\n",
      "1/1 [==============================] - 0s 5ms/step - loss: 0.0011 - accuracy: 0.1667\n",
      "Epoch 53/100\n",
      "1/1 [==============================] - 0s 6ms/step - loss: 0.0011 - accuracy: 0.1667\n",
      "Epoch 54/100\n",
      "1/1 [==============================] - 0s 10ms/step - loss: 0.0011 - accuracy: 0.1667\n",
      "Epoch 55/100\n",
      "1/1 [==============================] - 0s 5ms/step - loss: 0.0011 - accuracy: 0.1667\n",
      "Epoch 56/100\n",
      "1/1 [==============================] - 0s 7ms/step - loss: 0.0011 - accuracy: 0.1667\n",
      "Epoch 57/100\n",
      "1/1 [==============================] - 0s 10ms/step - loss: 0.0011 - accuracy: 0.1667\n",
      "Epoch 58/100\n",
      "1/1 [==============================] - 0s 10ms/step - loss: 0.0011 - accuracy: 0.1667\n",
      "Epoch 59/100\n",
      "1/1 [==============================] - 0s 10ms/step - loss: 0.0011 - accuracy: 0.1667\n",
      "Epoch 60/100\n",
      "1/1 [==============================] - 0s 5ms/step - loss: 0.0011 - accuracy: 0.1667\n",
      "Epoch 61/100\n",
      "1/1 [==============================] - 0s 5ms/step - loss: 0.0011 - accuracy: 0.1667\n",
      "Epoch 62/100\n",
      "1/1 [==============================] - 0s 5ms/step - loss: 0.0010 - accuracy: 0.1667\n",
      "Epoch 63/100\n",
      "1/1 [==============================] - 0s 5ms/step - loss: 0.0010 - accuracy: 0.1667\n",
      "Epoch 64/100\n",
      "1/1 [==============================] - 0s 5ms/step - loss: 0.0010 - accuracy: 0.1667\n",
      "Epoch 65/100\n",
      "1/1 [==============================] - 0s 5ms/step - loss: 0.0010 - accuracy: 0.1667\n",
      "Epoch 66/100\n",
      "1/1 [==============================] - 0s 5ms/step - loss: 0.0010 - accuracy: 0.1667\n",
      "Epoch 67/100\n",
      "1/1 [==============================] - 0s 5ms/step - loss: 0.0010 - accuracy: 0.1667\n",
      "Epoch 68/100\n",
      "1/1 [==============================] - 0s 10ms/step - loss: 9.9932e-04 - accuracy: 0.1667\n",
      "Epoch 69/100\n",
      "1/1 [==============================] - 0s 5ms/step - loss: 9.9204e-04 - accuracy: 0.1667\n",
      "Epoch 70/100\n",
      "1/1 [==============================] - 0s 5ms/step - loss: 9.8481e-04 - accuracy: 0.1667\n",
      "Epoch 71/100\n",
      "1/1 [==============================] - 0s 5ms/step - loss: 9.7764e-04 - accuracy: 0.1667\n",
      "Epoch 72/100\n",
      "1/1 [==============================] - 0s 5ms/step - loss: 9.7051e-04 - accuracy: 0.1667\n",
      "Epoch 73/100\n",
      "1/1 [==============================] - 0s 5ms/step - loss: 9.6344e-04 - accuracy: 0.1667\n",
      "Epoch 74/100\n",
      "1/1 [==============================] - 0s 5ms/step - loss: 9.5643e-04 - accuracy: 0.1667\n",
      "Epoch 75/100\n",
      "1/1 [==============================] - 0s 10ms/step - loss: 9.4946e-04 - accuracy: 0.1667\n",
      "Epoch 76/100\n",
      "1/1 [==============================] - 0s 5ms/step - loss: 9.4254e-04 - accuracy: 0.1667\n",
      "Epoch 77/100\n",
      "1/1 [==============================] - 0s 5ms/step - loss: 9.3567e-04 - accuracy: 0.1667\n",
      "Epoch 78/100\n",
      "1/1 [==============================] - 0s 10ms/step - loss: 9.2886e-04 - accuracy: 0.1667\n",
      "Epoch 79/100\n",
      "1/1 [==============================] - 0s 8ms/step - loss: 9.2209e-04 - accuracy: 0.1667\n",
      "Epoch 80/100\n",
      "1/1 [==============================] - 0s 5ms/step - loss: 9.1537e-04 - accuracy: 0.1667\n",
      "Epoch 81/100\n",
      "1/1 [==============================] - 0s 5ms/step - loss: 9.0870e-04 - accuracy: 0.1667\n",
      "Epoch 82/100\n",
      "1/1 [==============================] - 0s 5ms/step - loss: 9.0208e-04 - accuracy: 0.1667\n",
      "Epoch 83/100\n",
      "1/1 [==============================] - 0s 5ms/step - loss: 8.9551e-04 - accuracy: 0.1667\n",
      "Epoch 84/100\n",
      "1/1 [==============================] - 0s 5ms/step - loss: 8.8899e-04 - accuracy: 0.1667\n",
      "Epoch 85/100\n",
      "1/1 [==============================] - 0s 5ms/step - loss: 8.8251e-04 - accuracy: 0.1667\n",
      "Epoch 86/100\n",
      "1/1 [==============================] - 0s 25ms/step - loss: 8.7608e-04 - accuracy: 0.1667\n",
      "Epoch 87/100\n",
      "1/1 [==============================] - 0s 15ms/step - loss: 8.6969e-04 - accuracy: 0.1667\n",
      "Epoch 88/100\n",
      "1/1 [==============================] - 0s 5ms/step - loss: 8.6336e-04 - accuracy: 0.1667\n",
      "Epoch 89/100\n",
      "1/1 [==============================] - 0s 10ms/step - loss: 8.5707e-04 - accuracy: 0.1667\n",
      "Epoch 90/100\n",
      "1/1 [==============================] - 0s 15ms/step - loss: 8.5083e-04 - accuracy: 0.1667\n",
      "Epoch 91/100\n",
      "1/1 [==============================] - 0s 23ms/step - loss: 8.4463e-04 - accuracy: 0.1667\n",
      "Epoch 92/100\n",
      "1/1 [==============================] - 0s 5ms/step - loss: 8.3847e-04 - accuracy: 0.1667\n",
      "Epoch 93/100\n",
      "1/1 [==============================] - 0s 10ms/step - loss: 8.3237e-04 - accuracy: 0.1667\n",
      "Epoch 94/100\n",
      "1/1 [==============================] - 0s 5ms/step - loss: 8.2630e-04 - accuracy: 0.1667\n",
      "Epoch 95/100\n",
      "1/1 [==============================] - 0s 5ms/step - loss: 8.2028e-04 - accuracy: 0.1667\n",
      "Epoch 96/100\n",
      "1/1 [==============================] - 0s 5ms/step - loss: 8.1430e-04 - accuracy: 0.1667\n",
      "Epoch 97/100\n",
      "1/1 [==============================] - 0s 5ms/step - loss: 8.0837e-04 - accuracy: 0.1667\n",
      "Epoch 98/100\n",
      "1/1 [==============================] - 0s 23ms/step - loss: 8.0248e-04 - accuracy: 0.1667\n",
      "Epoch 99/100\n",
      "1/1 [==============================] - 0s 12ms/step - loss: 7.9663e-04 - accuracy: 0.1667\n",
      "Epoch 100/100\n",
      "1/1 [==============================] - 0s 5ms/step - loss: 7.9083e-04 - accuracy: 0.1667\n"
     ]
    }
   ],
   "source": [
    "# Get your trained model\n",
    "model = house_model()"
   ]
  },
  {
   "cell_type": "markdown",
   "metadata": {},
   "source": [
    "Now that your model has finished training it is time to test it out! You can do so by running the next cell."
   ]
  },
  {
   "cell_type": "code",
   "execution_count": 5,
   "metadata": {
    "id": "kMlInDdSBqGK",
    "tags": [
     "graded"
    ]
   },
   "outputs": [
    {
     "name": "stdout",
     "output_type": "stream",
     "text": [
      "1/1 [==============================] - 0s 132ms/step\n",
      "[4.040563]\n"
     ]
    }
   ],
   "source": [
    "new_y = 7.0\n",
    "prediction = model.predict([new_y])[0]\n",
    "print(prediction)"
   ]
  },
  {
   "cell_type": "markdown",
   "metadata": {},
   "source": [
    "If everything went as expected you should see a prediction value very close to 4. **If not, try adjusting your code before submitting the assignment.** Notice that you can play around with the value of `new_y` to get different predictions. In general you should see that the network was able to learn the linear relationship between `x` and `y`, so if you use a value of 8.0 you should get a prediction close to 4.5 and so on."
   ]
  },
  {
   "cell_type": "markdown",
   "metadata": {},
   "source": [
    "**Congratulations on finishing this week's assignment!**\n",
    "\n",
    "You have successfully coded a neural network that learned the linear relationship between two variables. Nice job!\n",
    "\n",
    "**Keep it up!**"
   ]
  }
 ],
 "metadata": {
  "kernelspec": {
   "display_name": "Python 3.9.4 64-bit",
   "language": "python",
   "name": "python3"
  },
  "language_info": {
   "codemirror_mode": {
    "name": "ipython",
    "version": 3
   },
   "file_extension": ".py",
   "mimetype": "text/x-python",
   "name": "python",
   "nbconvert_exporter": "python",
   "pygments_lexer": "ipython3",
   "version": "3.9.4"
  },
  "vscode": {
   "interpreter": {
    "hash": "25034407fed5d681614dac11a1c0537e8cb49e3a8883c071303eea01322943d9"
   }
  }
 },
 "nbformat": 4,
 "nbformat_minor": 4
}
